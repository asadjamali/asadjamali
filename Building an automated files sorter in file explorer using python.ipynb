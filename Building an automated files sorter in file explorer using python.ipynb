{
 "cells": [
  {
   "cell_type": "code",
   "execution_count": 55,
   "id": "a3ec115a",
   "metadata": {},
   "outputs": [],
   "source": [
    "import os, shutil"
   ]
  },
  {
   "cell_type": "code",
   "execution_count": 56,
   "id": "e63b8e81",
   "metadata": {},
   "outputs": [],
   "source": [
    "import os, shutil\n"
   ]
  },
  {
   "cell_type": "code",
   "execution_count": 57,
   "id": "9418889c",
   "metadata": {},
   "outputs": [],
   "source": [
    "path = r\"C:/Users/Lenovo/Desktop/Python Tutorials/\""
   ]
  },
  {
   "cell_type": "code",
   "execution_count": 58,
   "id": "d38afc6c",
   "metadata": {},
   "outputs": [],
   "source": [
    "file_names = os.listdir(path)"
   ]
  },
  {
   "cell_type": "code",
   "execution_count": 59,
   "id": "522a5cba",
   "metadata": {},
   "outputs": [
    {
     "name": "stdout",
     "output_type": "stream",
     "text": [
      "C:/Users/Lenovo/Desktop/Python Tutorials/CSV files\n",
      "C:/Users/Lenovo/Desktop/Python Tutorials/Image Files\n",
      "C:/Users/Lenovo/Desktop/Python Tutorials/Text Files\n",
      "there files in this path that were not moved\n"
     ]
    }
   ],
   "source": [
    "folder_names = ['CSV files', 'Image Files','Text Files']\n",
    "\n",
    "for loop in range (0,3):\n",
    "   if not  os.path.exists(path + folder_names[loop]) :\n",
    "    #print (path + folder_names[loop])\n",
    "    os.makedirs ((path + folder_names[loop]))\n",
    "\n",
    "for file in file_names:\n",
    "    if \".csv\" in file and not os.path.exists(path + \"csv files/\" + file):\n",
    "        shutil.move (path + file, path + \"csv files/\" + file)\n",
    "    elif \".png\" in file and not os.path.exists(path + \"image files/\" + file):\n",
    "        shutil.move (path + file, path + \"image files/\" + file)\n",
    "    elif \".txt\" in file and not os.path.exists(path + \"text files/\" + file):\n",
    "        shutil.move (path + file, path + \"text files/\" + file)\n",
    "else:\n",
    "    print ('there files in this path that were not moved')"
   ]
  },
  {
   "cell_type": "code",
   "execution_count": 45,
   "id": "63c8187e",
   "metadata": {},
   "outputs": [
    {
     "name": "stdout",
     "output_type": "stream",
     "text": [
      "there files in this path that were not moved\n"
     ]
    }
   ],
   "source": [
    "for file in file_names:\n",
    "    if \".csv\" in file and not os.path.exists(path + \"csv files/\" + file):\n",
    "        shutil.move (path + file, path + \"csv files/\" + file)\n",
    "    elif \".png\" in file and not os.path.exists(path + \"image files/\" + file):\n",
    "        shutil.move (path + file, path + \"image files/\" + file)\n",
    "    elif \".txt\" in file and not os.path.exists(path + \"text files/\" + file):\n",
    "        shutil.move (path + file, path + \"text files/\" + file)\n",
    "else:\n",
    "    print ('there files in this path that were not moved')"
   ]
  },
  {
   "cell_type": "code",
   "execution_count": null,
   "id": "044243e2",
   "metadata": {},
   "outputs": [],
   "source": []
  }
 ],
 "metadata": {
  "kernelspec": {
   "display_name": "Python 3 (ipykernel)",
   "language": "python",
   "name": "python3"
  },
  "language_info": {
   "codemirror_mode": {
    "name": "ipython",
    "version": 3
   },
   "file_extension": ".py",
   "mimetype": "text/x-python",
   "name": "python",
   "nbconvert_exporter": "python",
   "pygments_lexer": "ipython3",
   "version": "3.10.9"
  }
 },
 "nbformat": 4,
 "nbformat_minor": 5
}
